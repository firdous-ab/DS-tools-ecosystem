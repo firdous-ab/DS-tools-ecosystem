{
 "cells": [
  {
   "attachments": {},
   "cell_type": "markdown",
   "id": "54dd7372-784b-439d-83e0-4a21dbf53845",
   "metadata": {
    "tags": []
   },
   "source": [
    "# Data Science Tools and Ecosystem"
   ]
  },
  {
   "attachments": {},
   "cell_type": "markdown",
   "id": "feda591e-7dfc-4015-9240-dafaa06c0406",
   "metadata": {},
   "source": [
    "## In this notebook, Data Science Tools and Ecosystem are summarized."
   ]
  },
  {
   "attachments": {},
   "cell_type": "markdown",
   "id": "13c88ee1-b578-4eaf-ba09-d565220e64e9",
   "metadata": {},
   "source": [
    "## Objectives:\n",
    "- List popular languages for Data Science\n",
    "- List commonly used libraries used by Data Scientists\n",
    "- List Data Science tools\n",
    "- Arithmetic expressions in python"
   ]
  },
  {
   "attachments": {},
   "cell_type": "markdown",
   "id": "0925a27e-5480-46cc-bc2c-6662673fc7f9",
   "metadata": {},
   "source": [
    "### Some of the popular languages that Data Scientists use are:\n",
    "1. Python\n",
    "2. R\n",
    "3. Scala\n",
    "4. Julia\n",
    "5. Java\n",
    "6. SQL"
   ]
  },
  {
   "attachments": {},
   "cell_type": "markdown",
   "id": "420019d9-12e8-40a8-b6e4-d8c10bfd563d",
   "metadata": {},
   "source": [
    "### Some of the commonly used libraries used by Data Scientists include:\n",
    "1. Pandas\n",
    "2. NumPy\n",
    "3. Matplotlib\n",
    "4. Seaborn\n",
    "5. Scikit-learn\n",
    "6. Keras\n",
    "7. ggplot2"
   ]
  },
  {
   "attachments": {},
   "cell_type": "markdown",
   "id": "3bd9a727-c551-4f81-8181-75df624f754a",
   "metadata": {},
   "source": [
    "|Data Science Tools|\n",
    "| ---------------- |\n",
    "| Jupyter Notebook |\n",
    "| Visual Studio Code|\n",
    "| RStudio |\n",
    "| PyCharm |"
   ]
  },
  {
   "attachments": {},
   "cell_type": "markdown",
   "id": "d72a3a7b-a9e6-438a-bcab-e26e22492b9e",
   "metadata": {},
   "source": [
    "### Below are a few examples of evaluating arithmetic expressions in Python"
   ]
  },
  {
   "cell_type": "code",
   "execution_count": 6,
   "id": "5df07773-a002-4bb0-a076-d52be0da97aa",
   "metadata": {},
   "outputs": [
    {
     "data": {
      "text/plain": [
       "17"
      ]
     },
     "execution_count": 6,
     "metadata": {},
     "output_type": "execute_result"
    }
   ],
   "source": [
    "# This a simple arithmetic expression to mutiply then add integers\n",
    "(3*4)+5"
   ]
  },
  {
   "cell_type": "code",
   "execution_count": 7,
   "id": "42184dbd-8870-4fb5-b2dc-ac119b9c99c6",
   "metadata": {},
   "outputs": [
    {
     "data": {
      "text/plain": [
       "3.3333333333333335"
      ]
     },
     "execution_count": 7,
     "metadata": {},
     "output_type": "execute_result"
    }
   ],
   "source": [
    "# This will convert 200 minutes to hours by diving by 60\n",
    "200/60"
   ]
  },
  {
   "attachments": {},
   "cell_type": "markdown",
   "id": "ca616670-83f5-4d3c-94b9-472da4f28d7f",
   "metadata": {},
   "source": [
    "## Author\n",
    "#### Firdous Bakare Damilola"
   ]
  },
  {
   "cell_type": "code",
   "execution_count": null,
   "id": "c78297e8-a1a4-41e4-87c8-ab2b701fe5b2",
   "metadata": {},
   "outputs": [],
   "source": []
  }
 ],
 "metadata": {
  "kernelspec": {
   "display_name": "Python 3 (ipykernel)",
   "language": "python",
   "name": "python3"
  },
  "language_info": {
   "codemirror_mode": {
    "name": "ipython",
    "version": 3
   },
   "file_extension": ".py",
   "mimetype": "text/x-python",
   "name": "python",
   "nbconvert_exporter": "python",
   "pygments_lexer": "ipython3",
   "version": "3.10.9"
  }
 },
 "nbformat": 4,
 "nbformat_minor": 5
}
